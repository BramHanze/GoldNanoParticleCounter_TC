{
 "cells": [
  {
   "cell_type": "code",
   "execution_count": 37,
   "metadata": {},
   "outputs": [
    {
     "name": "stdout",
     "output_type": "stream",
     "text": [
      "['2024-08i compl OADChi E2_13.tif', '2024-08i compl OADChi E2_14.tif', '2024-08i_compl_OADChi_E1_34.tif', '2024-08i_compl_OADChi_E1_01.tif', '2024-08i_compl_OADChi_E1_06.tif', '2024-08i_compl_OADChi_E1_08.tif', '2024-08i compl OADChi E2_26.tif', '2024-08i_compl_OADChi_E1_19.tif', '2024-08i compl OADChi E2_30.tif', '2024-08i_compl_OADChi_E1_17.tif', '2024-08i_compl_OADChi_E1_10.tif', '2024-08i compl OADChi E2_05.tif', '2024-08i compl OADChi E2_02.tif', '2024-08i compl OADChi E2_27.tif', '2024-08i_compl_OADChi_E1_09.tif', '2024-08i_compl_OADChi_E1_07.tif', '2024-08i_compl_OADChi_E1_35.tif', '2024-08i_compl_OADChi_E1_32.tif', '2024-08i_compl_OADChi_E1_40.tif', '2024-08i compl OADChi E2_15.tif', '2024-08i compl OADChi E2_12.tif', '2024-08i compl OADChi E2_03.tif', '2024-08i_compl_OADChi_E1_23.tif', '2024-08i_compl_OADChi_E1_11.tif', '2024-08i_compl_OADChi_E1_16.tif', '2024-08i_compl_OADChi_E1_18.tif', '2024-08i compl OADChi E2_31.tif', '2024-08i_compl_OADChi_E1_29.tif', '2024-08i_compl_OADChi_E1_27.tif', '2024-08i_compl_OADChi_E1_20.tif', '2024-08i compl OADChi E2_09.tif', '2024-08i_compl_OADChi_E1_15.tif', '2024-08i_compl_OADChi_E1_12.tif', '2024-08i compl OADChi E2_23.tif', '2024-08i compl OADChi E2_24.tif', '2024-08i_compl_OADChi_E1_03.tif', '2024-08i_compl_OADChi_E1_04.tif', '2024-08i compl OADChi E2_18.tif', '2024-08i_compl_OADChi_E1_31.tif', '2024-08i_compl_OADChi_E1_36.tif', '2024-08i compl OADChi E2_16.tif', '2024-08i_compl_OADChi_E1_14.tif', '2024-08i_compl_OADChi_E1_21.tif', '2024-08i compl OADChi E2_08.tif', '2024-08i_compl_OADChi_E1_26.tif', '2024-08i_compl_OADChi_E1_28.tif', '2024-08i_compl_OADChi_E1_42.tif', '2024-08i compl OADChi E2_17.tif', '2024-08i compl OADChi E2_10.tif', '2024-08i_compl_OADChi_E1_39.tif', '2024-08i_compl_OADChi_E1_37.tif', '2024-08i compl OADChi E2_19.tif', '2024-08i_compl_OADChi_E1_05.tif', '2024-08i compl OADChi E2_22.tif']\n"
     ]
    }
   ],
   "source": [
    "path = '/commons/Themas/Thema11/GoldParticles/complemented Mtb/'\n",
    "from os import listdir\n",
    "from os.path import isfile, join\n",
    "files = [f for f in listdir(path) if isfile(join(path, f))]\n",
    "print(files)"
   ]
  },
  {
   "cell_type": "code",
   "execution_count": null,
   "metadata": {},
   "outputs": [],
   "source": [
    "import cv2\n",
    "import numpy as np\n",
    "\n",
    "file = '/commons/Themas/Thema11/GoldParticles/wildtype Mtb/2024-08i WT Mtb 2nd exp_D2_31.tif'\n",
    "\n",
    "image = cv2.imread(file)\n",
    "mean_pixel_color = np.median(image)\n",
    "blur = cv2.medianBlur(image, 81)\n",
    "gray = cv2.cvtColor(blur, cv2.COLOR_BGR2GRAY)\n",
    "thresh = cv2.threshold(gray, mean_pixel_color-15, 255, cv2.THRESH_BINARY_INV)[1]\n",
    "\n",
    "cnts = cv2.findContours(thresh, cv2.RETR_EXTERNAL, cv2.CHAIN_APPROX_SIMPLE)\n",
    "cnts = cnts[0] if len(cnts) == 2 else cnts[1]\n",
    "\n",
    "min_area = 1000000\n",
    "cells = []\n",
    "\n",
    "for c in cnts:\n",
    "    area = cv2.contourArea(c)\n",
    "    if area > min_area:\n",
    "        cv2.drawContours(image, [c], -1, (36, 255, 12), 2)  # Draw contours in green\n",
    "        cells.append(c)\n",
    "\n",
    "\n",
    "import numpy as np\n",
    "import matplotlib.pyplot as plt\n",
    "\n",
    "picture = np.array(image)\n",
    "plt.figure(figsize=(12, 8))\n",
    "plt.imshow(picture, cmap='gray')\n",
    "plt.axis('off'); plt.axis('image'); plt.colorbar()\n",
    "plt.show()\n",
    "\n",
    "\n",
    "if len(cells) != 1:\n",
    "    print(f'{len(cells)} cells found, only 1 cell is required')\n",
    "else:\n",
    "    print(\"Cell surface area is:\", cv2.contourArea(cells[0]))\n",
    "#cv2.imwrite(\"result2.jpg\", image)\n"
   ]
  },
  {
   "cell_type": "code",
   "execution_count": null,
   "metadata": {},
   "outputs": [],
   "source": [
    "import cv2\n",
    "for file in files:\n",
    "    file = path+file\n",
    "\n",
    "    image = cv2.imread(file)\n",
    "    mean_pixel_color = np.median(image)\n",
    "    blur = cv2.medianBlur(image, 81)\n",
    "    gray = cv2.cvtColor(blur, cv2.COLOR_BGR2GRAY)\n",
    "    thresh = cv2.threshold(gray, mean_pixel_color-40, 255, cv2.THRESH_BINARY_INV)[1]\n",
    "\n",
    "    cnts = cv2.findContours(thresh, cv2.RETR_EXTERNAL, cv2.CHAIN_APPROX_SIMPLE)\n",
    "    cnts = cnts[0] if len(cnts) == 2 else cnts[1]\n",
    "\n",
    "    height, width = image.shape[:2]\n",
    "    min_area = (height*width)/20\n",
    "    cells = []\n",
    "    \n",
    "    def touches_images_border(c, height, width):\n",
    "        x, y, w, h = cv2.boundingRect(c)\n",
    "        return x <= 0 or y <= 0 or (x + w) >= width or (y + h) >= height\n",
    "    \n",
    "    for c in cnts:\n",
    "        area = cv2.contourArea(c)\n",
    "        if area > min_area and not touches_images_border(c, image):\n",
    "            cv2.drawContours(image, [c], -1, (36, 255, 12), 2)  # Draw contours in green\n",
    "            cells.append(c)\n",
    "\n",
    "\n",
    "    import numpy as np\n",
    "    import matplotlib.pyplot as plt\n",
    "\n",
    "    picture = np.array(image)\n",
    "    plt.figure(figsize=(12, 8))\n",
    "    plt.imshow(picture, cmap='gray')\n",
    "    plt.axis('off'); plt.axis('image'); plt.colorbar()\n",
    "    plt.show()\n",
    "\n",
    "\n",
    "    if len(cells) != 1:\n",
    "        print(f'{len(cells)} cells found, only 1 cell is required')\n",
    "    else:\n",
    "        print(\"Cell surface area is:\", cv2.contourArea(cells[0]))\n",
    "    print(\"average color:\", mean_pixel_color)\n",
    "    #cv2.imwrite(\"result2.jpg\", image)\n"
   ]
  },
  {
   "cell_type": "code",
   "execution_count": null,
   "metadata": {},
   "outputs": [],
   "source": []
  }
 ],
 "metadata": {
  "kernelspec": {
   "display_name": "Python 3",
   "language": "python",
   "name": "python3"
  },
  "language_info": {
   "codemirror_mode": {
    "name": "ipython",
    "version": 3
   },
   "file_extension": ".py",
   "mimetype": "text/x-python",
   "name": "python",
   "nbconvert_exporter": "python",
   "pygments_lexer": "ipython3",
   "version": "3.12.9"
  }
 },
 "nbformat": 4,
 "nbformat_minor": 2
}
