{
 "cells": [
  {
   "cell_type": "code",
   "execution_count": 6,
   "metadata": {},
   "outputs": [],
   "source": [
    "from PIL import Image\n",
    "import numpy as np"
   ]
  },
  {
   "cell_type": "code",
   "execution_count": 7,
   "metadata": {},
   "outputs": [
    {
     "data": {
      "text/plain": [
       "(1200, 1600)"
      ]
     },
     "execution_count": 7,
     "metadata": {},
     "output_type": "execute_result"
    }
   ],
   "source": [
    "picture = np.array(Image.open('data/wildtype_Mtb/2024-08i WT Mtb 2nd exp_D2_32.tif'))[1320:2520, 1760:3360, 1] / 255.0\n",
    "picture.shape"
   ]
  },
  {
   "cell_type": "code",
   "execution_count": 8,
   "metadata": {},
   "outputs": [
    {
     "data": {
      "text/plain": [
       "True"
      ]
     },
     "execution_count": 8,
     "metadata": {},
     "output_type": "execute_result"
    }
   ],
   "source": [
    "import cv2 as cv\n",
    "img = cv.imread('data/wildtype_Mtb/2024-08i WT Mtb 2nd exp_D2_32.tif', 0)\n",
    "th2 = cv.adaptiveThreshold(img,255,cv.ADAPTIVE_THRESH_MEAN_C,\\\n",
    "            cv.THRESH_BINARY,11,2)\n",
    "th3 = cv.adaptiveThreshold(img,255,cv.ADAPTIVE_THRESH_GAUSSIAN_C,\\\n",
    "            cv.THRESH_BINARY,11,2)\n",
    "titles = ['Adaptive Mean Thresholding', 'Adaptive Gaussian Thresholding']\n",
    "images = [th2, th3]\n",
    "inv = ~th3\n",
    "res = cv.bitwise_and(img,inv)\n",
    "#cv.imshow(titles[1],res)\n",
    "#cv.waitKey(0)\n",
    "cv.imwrite(\"result.jpg\",res)\n",
    "#cv.destroyAllWindows()"
   ]
  },
  {
   "cell_type": "code",
   "execution_count": 9,
   "metadata": {},
   "outputs": [],
   "source": [
    "import cv2\n",
    "img = cv2.imread('data/wildtype_Mtb/2024-08i WT Mtb 2nd exp_D2_32.tif')"
   ]
  },
  {
   "cell_type": "code",
   "execution_count": null,
   "metadata": {},
   "outputs": [
    {
     "name": "stdout",
     "output_type": "stream",
     "text": [
      "Black Dots count is: 83\n"
     ]
    },
    {
     "data": {
      "text/plain": [
       "True"
      ]
     },
     "execution_count": 2,
     "metadata": {},
     "output_type": "execute_result"
    }
   ],
   "source": [
    "import cv2\n",
    "import numpy as np\n",
    "\n",
    "image = cv2.imread('data/wildtype_Mtb/2024-08i WT Mtb 2nd exp_D2_32.tif')\n",
    "\n",
    "height = image.shape[0]\n",
    "cutoff = int(height * 0.9)\n",
    "image = image[:cutoff, :]\n",
    "\n",
    "blur = cv2.medianBlur(image, 5)\n",
    "gray = cv2.cvtColor(blur, cv2.COLOR_BGR2GRAY)\n",
    "thresh = cv2.threshold(gray, 47, 255, cv2.THRESH_BINARY_INV)[1]\n",
    "\n",
    "cnts = cv2.findContours(thresh, cv2.RETR_EXTERNAL, cv2.CHAIN_APPROX_SIMPLE)\n",
    "cnts = cnts[0] if len(cnts) == 2 else cnts[1]\n",
    "\n",
    "min_area = 75\n",
    "circularity_threshold = 0.7\n",
    "black_dots = []\n",
    "\n",
    "\n",
    "for c in cnts:\n",
    "    area = cv2.contourArea(c)\n",
    "    perimeter = cv2.arcLength(c, True)\n",
    "    if perimeter == 0:\n",
    "        continue  # Avoid division by zero\n",
    "    circularity = (4 * np.pi * area) / (perimeter ** 2)\n",
    "    \n",
    "    if area > min_area and circularity > circularity_threshold:\n",
    "        cv2.drawContours(image, [c], -1, (36, 255, 12), 2)  # Draw contours in green\n",
    "        black_dots.append(c)\n",
    "\n",
    "print(\"Black Dots count is:\", len(black_dots))\n",
    "cv2.imwrite(\"result2.jpg\", image)\n",
    "cv2.imwrite(\"result3.jpg\", thresh)"
   ]
  },
  {
   "cell_type": "code",
   "execution_count": 1,
   "metadata": {},
   "outputs": [
    {
     "data": {
      "text/plain": [
       "True"
      ]
     },
     "execution_count": 1,
     "metadata": {},
     "output_type": "execute_result"
    }
   ],
   "source": [
    "import cv2 as cv\n",
    "img = cv.imread('data/wildtype_Mtb/2024-08i WT Mtb 2nd exp_D2_32.tif', 0)\n",
    "th2 = cv.adaptiveThreshold(img,255,cv.ADAPTIVE_THRESH_MEAN_C,\\\n",
    "            cv.THRESH_BINARY,11,2)\n",
    "th3 = cv.adaptiveThreshold(img,255,cv.ADAPTIVE_THRESH_GAUSSIAN_C,\\\n",
    "            cv.THRESH_BINARY,11,2)\n",
    "titles = ['Adaptive Mean Thresholding', 'Adaptive Gaussian Thresholding']\n",
    "images = [th2, th3]\n",
    "inv = ~th3\n",
    "res = cv.bitwise_and(img,inv)\n",
    "#cv.imshow(titles[1],res)\n",
    "#cv.waitKey(0)\n",
    "cv.imwrite(\"contrast.jpg\",res)\n",
    "#cv.destroyAllWindows()"
   ]
  }
 ],
 "metadata": {
  "kernelspec": {
   "display_name": "Python 3",
   "language": "python",
   "name": "python3"
  },
  "language_info": {
   "codemirror_mode": {
    "name": "ipython",
    "version": 3
   },
   "file_extension": ".py",
   "mimetype": "text/x-python",
   "name": "python",
   "nbconvert_exporter": "python",
   "pygments_lexer": "ipython3",
   "version": "3.11.11"
  }
 },
 "nbformat": 4,
 "nbformat_minor": 2
}
