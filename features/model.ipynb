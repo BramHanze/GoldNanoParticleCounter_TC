{
 "cells": [
  {
   "cell_type": "code",
   "execution_count": 1,
   "id": "350e6a60",
   "metadata": {},
   "outputs": [],
   "source": [
    "import sklearn\n",
    "import cv2\n",
    "import numpy as np"
   ]
  },
  {
   "cell_type": "markdown",
   "id": "f499f963",
   "metadata": {},
   "source": [
    "Aanvankelijk waren dit de in- en outputs die ik in gedachten had voor het model:\n",
    "\n",
    "**In:**\n",
    "* zoom, resolutie, mean kleur foto, kleurverdeling (histogram)\n",
    "\n",
    "**Out:**\n",
    "* cell threshold, min_area, adaptive threshold, threshold/blur stippen\n",
    "\n",
    "\n",
    "Om technische redenen (resolutie bestaat uit 2 cijfers) en om het model zo klein mogelijk te houden, zodat het op minder data getrained kan worden heb ik het oorspronkelijke plan naar dit veranderd:\n",
    "\n",
    "**In:**\n",
    "* schaal van foto, hoogte foto, breedte foto, mean kleur foto, contrast\n",
    "\n",
    "**Out:**\n",
    "* min_area, dot_thresh"
   ]
  },
  {
   "cell_type": "markdown",
   "id": "2e0da017",
   "metadata": {},
   "source": [
    "### Dit is de data:"
   ]
  },
  {
   "cell_type": "code",
   "execution_count": 8,
   "id": "b12d125b",
   "metadata": {},
   "outputs": [],
   "source": [
    "paths = ['data/Complemented\\\\2024-08i compl OADChi E2_17.tif','data/Mutant/2024-08i mutant Mtb 2nd exp_D4_02.tif','data/Mutant/2024-08i_mutant Mtb_D5_18.tif','data/Complemented/2024-08i compl OADChi E2_02.tif','data/Mutant/2024-08i_mutant Mtb_D5_17.tif',\n",
    "         'data\\Mutant/2024-08i mutant Mtb 2nd exp_D4_01.tif','data/Wildtype/2024_08i_WT_D3_OADChi_05.tif','data/Wildtype/2024_08i_WT_D3_OADChi_07.tif','data/Wildtype/2024_08i_WT_D3_OADChi_20.tif','data/Wildtype/2024-08i WT Mtb 2nd exp_D2_01.tif',\n",
    "         'data/Wildtype/2024-08i WT Mtb 2nd exp_D2_05.tif','data/Wildtype/2024-08i WT Mtb 2nd exp_D2_12.tif','data/Wildtype/2024-08i WT Mtb 2nd exp_D2_14.tif','data/Wildtype/2024-08i WT Mtb 2nd exp_D2_20.tif','data/Wildtype/2024-08i WT Mtb 2nd exp_D2_23.tif']"
   ]
  },
  {
   "cell_type": "code",
   "execution_count": null,
   "id": "065b96fc",
   "metadata": {},
   "outputs": [],
   "source": [
    "y = [[30,40],[120,35],[40,45],[60,45],[80,45],[80,45],[100,45],[100,45],[90,45],[90,45],[50,45],[40,45],[100,45],[40,45],[40,45]]"
   ]
  },
  {
   "cell_type": "markdown",
   "id": "1c9bfadb",
   "metadata": {},
   "source": [
    "Het viel me tijdens het maken van de data dat de dot_thresh vrijwel geen invloed heeft, en alle foto's op `45` werken. dot_tresh ga ik daarom ook verwijderen uit de data."
   ]
  },
  {
   "cell_type": "code",
   "execution_count": 15,
   "id": "13f91494",
   "metadata": {},
   "outputs": [],
   "source": [
    "y_fixed = []\n",
    "for i in y:\n",
    "    j = i[0]\n",
    "    y_fixed.append(j)\n",
    "y = y_fixed"
   ]
  },
  {
   "cell_type": "markdown",
   "id": "027271e9",
   "metadata": {},
   "source": [
    "De output van het model is nu alleen nog maar min_area\n",
    "\n",
    "De volgende stap is de input van het model maken. Er is een lijst met alle bestanden, `paths`. Bij elk bestand in deze lijst verzameld de volgende functie `img_info()` wat informatie."
   ]
  },
  {
   "cell_type": "code",
   "execution_count": 16,
   "id": "df39334d",
   "metadata": {},
   "outputs": [
    {
     "name": "stderr",
     "output_type": "stream",
     "text": [
      "Neither CUDA nor MPS are available - defaulting to CPU. Note: This module is much faster with a GPU.\n",
      "d:\\HW\\gold_nanoparticle_TC\\.venv\\Lib\\site-packages\\torch\\utils\\data\\dataloader.py:665: UserWarning: 'pin_memory' argument is set as true but no accelerator is found, then device pinned memory won't be used.\n",
      "  warnings.warn(warn_msg)\n",
      "Neither CUDA nor MPS are available - defaulting to CPU. Note: This module is much faster with a GPU.\n",
      "Neither CUDA nor MPS are available - defaulting to CPU. Note: This module is much faster with a GPU.\n",
      "Neither CUDA nor MPS are available - defaulting to CPU. Note: This module is much faster with a GPU.\n",
      "Neither CUDA nor MPS are available - defaulting to CPU. Note: This module is much faster with a GPU.\n",
      "Neither CUDA nor MPS are available - defaulting to CPU. Note: This module is much faster with a GPU.\n",
      "Neither CUDA nor MPS are available - defaulting to CPU. Note: This module is much faster with a GPU.\n",
      "Neither CUDA nor MPS are available - defaulting to CPU. Note: This module is much faster with a GPU.\n",
      "Neither CUDA nor MPS are available - defaulting to CPU. Note: This module is much faster with a GPU.\n",
      "Neither CUDA nor MPS are available - defaulting to CPU. Note: This module is much faster with a GPU.\n",
      "Neither CUDA nor MPS are available - defaulting to CPU. Note: This module is much faster with a GPU.\n",
      "Neither CUDA nor MPS are available - defaulting to CPU. Note: This module is much faster with a GPU.\n",
      "Neither CUDA nor MPS are available - defaulting to CPU. Note: This module is much faster with a GPU.\n",
      "Neither CUDA nor MPS are available - defaulting to CPU. Note: This module is much faster with a GPU.\n",
      "Neither CUDA nor MPS are available - defaulting to CPU. Note: This module is much faster with a GPU.\n"
     ]
    }
   ],
   "source": [
    "from bar_and_scale_finder import scale_finder\n",
    "\n",
    "def img_info(image_path):\n",
    "    image = cv2.imread(image_path)\n",
    "    mean = float(image.mean())\n",
    "    h,w =  image.shape[0:2]\n",
    "    contrast = float(np.std(image))\n",
    "    return [scale_finder(image_path), h,w, mean, contrast]\n",
    "x=[]\n",
    "for path in paths:\n",
    "    x.append(img_info(path))"
   ]
  },
  {
   "cell_type": "code",
   "execution_count": 17,
   "id": "267cc270",
   "metadata": {},
   "outputs": [
    {
     "name": "stdout",
     "output_type": "stream",
     "text": [
      "[[0.6968641114982579, 3840, 5120, 183.77602771335177, 32.8951779909937], [0.5025125628140703, 3840, 5120, 178.83489262898763, 40.37792014225524], [0.5025125628140703, 3840, 5120, 192.97049353705512, 57.574980464458285], [0.6968641114982579, 3840, 5120, 208.19448016696506, 36.15486249758521], [0.5025125628140703, 3840, 5120, 206.93722176445854, 40.819356963800224], [0.5025125628140703, 3840, 5120, 182.78424994574652, 35.88123807627787], [0.5025125628140703, 3840, 5120, 164.8578357272678, 42.03827300355256], [0.5025125628140703, 3840, 5120, 169.83906741672092, 43.291019095331094], [0.5025125628140703, 3840, 5120, 149.3517938232422, 43.80813973241743], [0.5025125628140703, 3840, 5120, 196.80446445041233, 46.801500753918845], [0.6968641114982579, 3840, 5120, 201.0984417046441, 43.30529383623584], [0.6968641114982579, 3840, 5120, 210.16379928588867, 44.52378333994371], [0.5025125628140703, 3840, 5120, 194.17714799669054, 40.695184535128575], [0.6968641114982579, 3840, 5120, 188.13511055840385, 35.13748168519478], [0.5025125628140703, 3840, 5120, 193.25532560560438, 38.296141296911955]]\n"
     ]
    }
   ],
   "source": [
    "print(x)"
   ]
  },
  {
   "cell_type": "markdown",
   "id": "9b9e49ff",
   "metadata": {},
   "source": [
    "# Trainen en testen"
   ]
  },
  {
   "cell_type": "code",
   "execution_count": 18,
   "id": "e242d18a",
   "metadata": {},
   "outputs": [],
   "source": [
    "from sklearn.ensemble import RandomForestClassifier\n",
    "\n",
    "clf = RandomForestClassifier(n_estimators=10)\n",
    "clf = clf.fit(x, y)"
   ]
  },
  {
   "cell_type": "code",
   "execution_count": 20,
   "id": "9a9185f6",
   "metadata": {},
   "outputs": [
    {
     "name": "stderr",
     "output_type": "stream",
     "text": [
      "Neither CUDA nor MPS are available - defaulting to CPU. Note: This module is much faster with a GPU.\n"
     ]
    },
    {
     "name": "stdout",
     "output_type": "stream",
     "text": [
      "[[0.5025125628140703, 3840, 5120, 197.76578053792318, 43.43403970469155]]\n"
     ]
    },
    {
     "name": "stderr",
     "output_type": "stream",
     "text": [
      "d:\\HW\\gold_nanoparticle_TC\\.venv\\Lib\\site-packages\\torch\\utils\\data\\dataloader.py:665: UserWarning: 'pin_memory' argument is set as true but no accelerator is found, then device pinned memory won't be used.\n",
      "  warnings.warn(warn_msg)\n"
     ]
    },
    {
     "data": {
      "text/plain": [
       "array([90])"
      ]
     },
     "execution_count": 20,
     "metadata": {},
     "output_type": "execute_result"
    }
   ],
   "source": [
    "test = [img_info('data/Mutant/2024-08i_mutant Mtb_D5_37.tif')] #Moet 2d om wat voor reden\n",
    "print(test)\n",
    "clf.predict(test)"
   ]
  },
  {
   "cell_type": "markdown",
   "id": "26ef04cb",
   "metadata": {},
   "source": [
    "De test-voorspelling klopt, 90 is de correcte min_area"
   ]
  }
 ],
 "metadata": {
  "kernelspec": {
   "display_name": ".venv",
   "language": "python",
   "name": "python3"
  },
  "language_info": {
   "codemirror_mode": {
    "name": "ipython",
    "version": 3
   },
   "file_extension": ".py",
   "mimetype": "text/x-python",
   "name": "python",
   "nbconvert_exporter": "python",
   "pygments_lexer": "ipython3",
   "version": "3.11.0"
  }
 },
 "nbformat": 4,
 "nbformat_minor": 5
}
