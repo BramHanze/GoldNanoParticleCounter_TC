{
 "cells": [
  {
   "cell_type": "code",
   "execution_count": 44,
   "metadata": {},
   "outputs": [
    {
     "name": "stdout",
     "output_type": "stream",
     "text": [
      "Black Dots count is: 3\n"
     ]
    },
    {
     "data": {
      "image/png": "[encoded data removed]",
      "text/plain": [
       "<Figure size 1200x800 with 2 Axes>"
      ]
     },
     "metadata": {},
     "output_type": "display_data"
    },
    {
     "name": "stdout",
     "output_type": "stream",
     "text": [
      "424\n",
      "309\n",
      "197\n",
      "315\n",
      "38.4765625\n",
      "1\n"
     ]
    }
   ],
   "source": [
    "import cv2\n",
    "import numpy as np\n",
    "\n",
    "# Load image\n",
    "image = cv2.imread('data/wildtype_Mtb/2024-08i WT Mtb 2nd exp_D2_20.tif')\n",
    "\n",
    "# Get image dimensions\n",
    "height, width = image.shape[:2]\n",
    "\n",
    "# Calculate the cutoff points (bottom-right 10%)\n",
    "cutoff_h1 = int(height * 0.975)\n",
    "cutoff_h2 = int(height * 0.98)\n",
    "cutoff_w1 = int(width * 0.9)\n",
    "\n",
    "# Crop the image correctly (bottom-right 10%)\n",
    "image = image[cutoff_h1:cutoff_h2, cutoff_w1:]\n",
    "\n",
    "blur = cv2.medianBlur(image, 9)\n",
    "gray = cv2.cvtColor(blur, cv2.COLOR_BGR2GRAY)\n",
    "\n",
    "thresh = cv2.adaptiveThreshold(gray, 255, cv2.ADAPTIVE_THRESH_MEAN_C, cv2.THRESH_BINARY, 13, 2)\n",
    "\n",
    "thresh= cv2.medianBlur(thresh, 15)\n",
    "\n",
    "thresh = cv2.threshold(thresh, 45, 255, cv2.THRESH_BINARY_INV)[1]\n",
    "\n",
    "cnts = cv2.findContours(thresh, cv2.RETR_EXTERNAL, cv2.CHAIN_APPROX_SIMPLE)\n",
    "cnts = cnts[0] if len(cnts) == 2 else cnts[1]\n",
    "\n",
    "min_area = 200\n",
    "black_dots = []\n",
    "\n",
    "\n",
    "for c in cnts:\n",
    "    area = cv2.contourArea(c)\n",
    "    perimeter = cv2.arcLength(c, True)\n",
    "    if perimeter == 0:\n",
    "        continue  # Avoid division by zero\n",
    "    if area > min_area:\n",
    "      black_dots.append(c)\n",
    "\n",
    "cv2.drawContours(image, black_dots, -1, (36, 255, 12), 2)  # Draw contours in green\n",
    "cv2.imwrite('result_adapt_thresh.jpg', image)\n",
    "\n",
    "print(\"Black Dots count is:\", len(black_dots))\n",
    "picture = np.array(thresh)\n",
    "\n",
    "import matplotlib.pyplot as plt\n",
    "plt.figure(figsize=(12, 8))\n",
    "plt.imshow(picture, cmap='gray')\n",
    "plt.axis('off'); plt.axis('image'); plt.colorbar()\n",
    "plt.show()\n",
    "\n",
    "# Find the leftmost X-coordinate\n",
    "leftmost_x = float('inf')  # Initialize to a large number\n",
    "\n",
    "for c in black_dots:\n",
    "    x, y, w, h = cv2.boundingRect(c)  # Get bounding box of each contour\n",
    "    if x < leftmost_x :\n",
    "        leftmost_x = x\n",
    "        print(leftmost_x)\n",
    "\n",
    "# Get the width of the cropped image\n",
    "cropped_width = image.shape[1]\n",
    "\n",
    "# Calculate width between leftmost X and the right edge\n",
    "width_to_right = cropped_width - leftmost_x\n",
    "\n",
    "print(width_to_right)\n",
    "\n",
    "cropped_width = image.shape[1]  # Get the width of the cropped image\n",
    "\n",
    "leftmost_x_percentage = (leftmost_x / cropped_width) * 100\n",
    "\n",
    "print(leftmost_x_percentage)\n",
    "\n",
    "dot_size = int(width_to_right*0.3*(1/(100-leftmost_x_percentage)))\n",
    "print(dot_size)"
   ]
  }
 ],
 "metadata": {
  "kernelspec": {
   "display_name": ".venv",
   "language": "python",
   "name": "python3"
  },
  "language_info": {
   "codemirror_mode": {
    "name": "ipython",
    "version": 3
   },
   "file_extension": ".py",
   "mimetype": "text/x-python",
   "name": "python",
   "nbconvert_exporter": "python",
   "pygments_lexer": "ipython3",
   "version": "3.12.9"
  }
 },
 "nbformat": 4,
 "nbformat_minor": 2
}
